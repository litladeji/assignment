{
 "cells": [
  {
   "cell_type": "markdown",
   "id": "41ca9b9e",
   "metadata": {},
   "source": [
    "# Exercise: RDataFrame and collections"
   ]
  },
  {
   "cell_type": "markdown",
   "id": "c5657ad2",
   "metadata": {},
   "source": [
    "The same dataset used in the previous exercise (`TTree` \"dataset\" in file `../data/example_file.root`) contains two vector columns `vec1` and `vec2`.<br>\n",
    "The elements of `vec1` are distributed as a mixture of Gaussians, plus background noise.<br>\n",
    "To remove the background noise, select the elements of `vec1` for which the square of the corresponding elements in `vec2` is less than 0.1.\n",
    "\n",
    "Where are the peaks of this mixture of Gaussians?\n",
    "\n",
    "### Useful links\n",
    "\n",
    "- [RDataFrame: working with collections](https://root.cern/doc/master/classROOT_1_1RDataFrame.html#collections)\n",
    "- [RVec reference](https://root.cern/doc/master/classROOT_1_1VecOps_1_1RVec.html)"
   ]
  },
  {
   "cell_type": "code",
   "execution_count": 1,
   "id": "4dea17f9",
   "metadata": {},
   "outputs": [
    {
     "name": "stdout",
     "output_type": "stream",
     "text": [
      "Welcome to JupyROOT 6.30/07\n",
      "Entries passing filter: 992\n"
     ]
    },
    {
     "name": "stderr",
     "output_type": "stream",
     "text": [
      "Error in <TUnixSystem::SetDisplay>: Can't figure out DISPLAY, set it manually\n",
      "In case you run a remote ssh session, restart your ssh session with:\n",
      "=========>  ssh -Y\n",
      "Error in <TUnixSystem::SetDisplay>: Can't figure out DISPLAY, set it manually\n",
      "In case you run a remote ssh session, restart your ssh session with:\n",
      "=========>  ssh -Y\n"
     ]
    },
    {
     "data": {
      "image/png": "[encoded data removed]",
      "text/plain": [
       "<IPython.core.display.Image object>"
      ]
     },
     "metadata": {},
     "output_type": "display_data"
    }
   ],
   "source": [
    "import ROOT\n",
    "\n",
    "# Disable batch mode so the plot window shows up\n",
    "ROOT.gROOT.SetBatch(False)\n",
    "\n",
    "# Load the ROOT file and specify the correct tree name\n",
    "df = ROOT.RDataFrame(\"dataset\", \"example_file.root\")  # Replace \"dataset\" if needed\n",
    "\n",
    "# Apply a filter on column 'b'\n",
    "filtered_df = df.Filter(\"b <= 0.5\")\n",
    "count = filtered_df.Count().GetValue()\n",
    "print(f\"Entries passing filter: {count}\")\n",
    "\n",
    "if count > 0:\n",
    "    # Apply log transformation on column 'a'\n",
    "    log_df = filtered_df.Define(\"log_a\", \"log(a)\")\n",
    "\n",
    "    # Create histogram of log_a\n",
    "    hist = log_df.Histo1D((\"log_a_hist\", \"Log(a) for b <= 0.5;log(a);Entries\", 100, -5, 5), \"log_a\")\n",
    "\n",
    "    # Create canvas and draw histogram\n",
    "    canvas = ROOT.TCanvas(\"canvas\", \"Log(a) Distribution\", 800, 600)\n",
    "    hist.Draw()\n",
    "    canvas.Update()\n",
    "    \n"
   ]
  },
  {
   "cell_type": "code",
   "execution_count": null,
   "id": "92a4eeb2-4ccf-41ef-b6cf-1985011a21c2",
   "metadata": {},
   "outputs": [],
   "source": []
  }
 ],
 "metadata": {
  "kernelspec": {
   "display_name": "Python 3 (ipykernel)",
   "language": "python",
   "name": "python3"
  },
  "language_info": {
   "codemirror_mode": {
    "name": "ipython",
    "version": 3
   },
   "file_extension": ".py",
   "mimetype": "text/x-python",
   "name": "python",
   "nbconvert_exporter": "python",
   "pygments_lexer": "ipython3",
   "version": "3.9.14"
  }
 },
 "nbformat": 4,
 "nbformat_minor": 5
}
